{
 "cells": [
  {
   "cell_type": "markdown",
   "id": "b32f3a61",
   "metadata": {},
   "source": [
    "#### Here, we present an end-to-end pipeline, from data ingestion from source system to train the dataset, prepare a model to tackle the metals melting prediction, and deploy a working model, from source to serving. We will utilize the physics based solid-liquid coexistence simulation using molecular dynamics simulaiton to generate the data , and then, we do some data modeling which invovles, cleaning, formating and ."
   ]
  },
  {
   "cell_type": "markdown",
   "id": "0364dc92",
   "metadata": {},
   "source": [
    "##### 1. Data Generation using Density Functional Theoery Caculation"
   ]
  },
  {
   "cell_type": "raw",
   "id": "8046f227",
   "metadata": {
    "vscode": {
     "languageId": "raw"
    }
   },
   "source": [
    "./1.Data_Generation_DFT.sh\n",
    "setting;\n",
    "        ELEMENT = \"Al\"\n",
    "        ATOMS = 4\n",
    "        KPOINTS_MESH = 2 2 2\n",
    "        MDSTEPS_L = 50\n",
    "        MDSTEPS_M = 1000\n",
    "        NBLOCKs =-5\n",
    "        TM= 920\n",
    "        TL= 4000\n",
    "        NPROC= 4"
   ]
  },
  {
   "cell_type": "raw",
   "id": "385f8079",
   "metadata": {
    "vscode": {
     "languageId": "raw"
    }
   },
   "source": [
    "# Expected data; \n",
    "     free_energy data = 1000/5 = 200\n",
    "     pressure data = 1000/5 = 200\n",
    "     XDATCAR = 200\n",
    "\n",
    "     Total configuration = 400\n",
    "     - first thermalizes(melts) solid(liquid) for short time -50fs\n",
    "     - then, (having solid/liquid), data generation starts upto 1000fs \n",
    "  \n",
    "  -Start on any folder\n",
    "  -creates Solid, Liquid folder to generate the data"
   ]
  },
  {
   "cell_type": "markdown",
   "id": "00b1c985",
   "metadata": {},
   "source": [
    "##### 2. Data Ingestion and Transformation from DFT Results"
   ]
  },
  {
   "cell_type": "raw",
   "id": "fd7a584f",
   "metadata": {
    "vscode": {
     "languageId": "raw"
    }
   },
   "source": [
    "./2.Data_Ingestion_transformation.sh \n",
    "- Gets into the Solid and Liquid Data Source and Ingest. and transorm the data, in models required format.\n",
    "\n",
    "-run the parent directory\n",
    "-Creates Fit_ls folder, where you do fittings to get mdincar (EAM)"
   ]
  },
  {
   "cell_type": "markdown",
   "id": "24c6e76b",
   "metadata": {},
   "source": [
    "##### 3. Training model on the dataset"
   ]
  },
  {
   "cell_type": "raw",
   "id": "767384c7",
   "metadata": {
    "vscode": {
     "languageId": "raw"
    }
   },
   "source": [
    "eamfit\n",
    "- fitted potential and saved in mdincar(EAM) file, which utilized by md.x\n",
    "\n",
    "-Run eamfit code to the Fit_ls folder that is created earlier"
   ]
  },
  {
   "cell_type": "markdown",
   "id": "44489d35",
   "metadata": {},
   "source": [
    "##### 4. Deploying the model to predict melting"
   ]
  },
  {
   "cell_type": "raw",
   "id": "81a9076b",
   "metadata": {
    "vscode": {
     "languageId": "raw"
    }
   },
   "source": [
    "Use this potential to run the coexistence calcualtions \n",
    "- coexistence calculaiton uses binary search for finding the best melting temperature.\n",
    "for that we created a folder coexistence and used the script `3.1coext_binary.sh`\n",
    "./3.1coext_binary.sh\n",
    "\n",
    "-Create a folder 'Coexistence' and only run \"3.1coext_binary.sh\""
   ]
  },
  {
   "cell_type": "markdown",
   "id": "b9500c27",
   "metadata": {},
   "source": [
    "##### 4.1 Thermodynamic Integration - Free energy correction to that melting point"
   ]
  },
  {
   "cell_type": "raw",
   "id": "d3ef5f0c",
   "metadata": {
    "vscode": {
     "languageId": "raw"
    }
   },
   "source": [
    "To further find the thermodynamics and sampling the coinfigurations for Thermodynamics integration,\n",
    "the script '4.PTV_ls' to run different Volume-Pressure calculation at a Constat Temperature. Using '4.1 Murnagon\n",
    "EOS' we determine the bulk modulus and Volume required to achieve that melting points pressure. \n",
    "\n",
    "-Create a folder TI(Thermodynamicd Integration)\n",
    "-run '4.PTV_ls.sh' script to get VP.dat data for a melting point\n",
    "-run '4.1.muna3rd.sh' or for visuals, use 'muna3rdpy.py' -- This will give you the bulk modulus \n",
    "and optimum volume that creates that pressure - run the Pressure-Volume Relations \n",
    "- Then FInding the optimum volume required ot create the target pressure, \n",
    "-  It samples the the Solid and Liquid"
   ]
  },
  {
   "cell_type": "code",
   "execution_count": 6,
   "id": "0532a5f7",
   "metadata": {
    "vscode": {
     "languageId": "markdown"
    }
   },
   "outputs": [],
   "source": [
    "##### 4.1 Thermodynamic Integration -Samping the configuration "
   ]
  },
  {
   "cell_type": "markdown",
   "id": "dca44136",
   "metadata": {},
   "source": []
  },
  {
   "cell_type": "raw",
   "id": "a7a4ff95",
   "metadata": {
    "vscode": {
     "languageId": "raw"
    }
   },
   "source": [
    "REcent updates;\n",
    "- 4.PTV.sh can run the Pressure-Volume Relations \n",
    "- Then FInding the optimum volume required ot create the target pressure, \n",
    "-  It samples the the Solid and Liquid\n",
    " inside sampling;\n"
   ]
  },
  {
   "cell_type": "raw",
   "id": "d5322ef1",
   "metadata": {
    "vscode": {
     "languageId": "raw"
    }
   },
   "source": [
    "# Inside sampling folder\n",
    "We can do the thermodynamics Integration from EAM to DFT;\n",
    "./Integration.sh\n",
    "This will create 4 folders that extracts coinfigurations from XDATCAR.liq and XDATCAR.sol \n",
    "to run md.x and vasp_std\n"
   ]
  }
 ],
 "metadata": {
  "kernelspec": {
   "display_name": "base",
   "language": "python",
   "name": "python3"
  },
  "language_info": {
   "codemirror_mode": {
    "name": "ipython",
    "version": 3
   },
   "file_extension": ".py",
   "mimetype": "text/x-python",
   "name": "python",
   "nbconvert_exporter": "python",
   "pygments_lexer": "ipython3",
   "version": "3.12.8"
  }
 },
 "nbformat": 4,
 "nbformat_minor": 5
}
